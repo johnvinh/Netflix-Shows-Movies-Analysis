{
 "cells": [
  {
   "cell_type": "code",
   "execution_count": 1,
   "metadata": {
    "collapsed": true,
    "pycharm": {
     "name": "#%%\n"
    }
   },
   "outputs": [
    {
     "data": {
      "text/plain": "         id                                title   type  \\\n0  ts300399  Five Came Back: The Reference Films   SHOW   \n1   tm84618                          Taxi Driver  MOVIE   \n2  tm127384      Monty Python and the Holy Grail  MOVIE   \n3   tm70993                        Life of Brian  MOVIE   \n4  tm190788                         The Exorcist  MOVIE   \n\n                                         description  release_year  \\\n0  This collection includes 12 World War II-era p...          1945   \n1  A mentally unstable Vietnam War veteran works ...          1976   \n2  King Arthur, accompanied by his squire, recrui...          1975   \n3  Brian Cohen is an average young Jewish man, bu...          1979   \n4  12-year-old Regan MacNeil begins to adapt an e...          1973   \n\n  age_certification  runtime                 genres production_countries  \\\n0             TV-MA       48      ['documentation']               ['US']   \n1                 R      113     ['crime', 'drama']               ['US']   \n2                PG       91  ['comedy', 'fantasy']               ['GB']   \n3                 R       94             ['comedy']               ['GB']   \n4                 R      133             ['horror']               ['US']   \n\n   seasons    imdb_id  imdb_score  imdb_votes  tmdb_popularity  tmdb_score  \n0      1.0        NaN         NaN         NaN            0.600         NaN  \n1      NaN  tt0075314         8.3    795222.0           27.612         8.2  \n2      NaN  tt0071853         8.2    530877.0           18.216         7.8  \n3      NaN  tt0079470         8.0    392419.0           17.505         7.8  \n4      NaN  tt0070047         8.1    391942.0           95.337         7.7  ",
      "text/html": "<div>\n<style scoped>\n    .dataframe tbody tr th:only-of-type {\n        vertical-align: middle;\n    }\n\n    .dataframe tbody tr th {\n        vertical-align: top;\n    }\n\n    .dataframe thead th {\n        text-align: right;\n    }\n</style>\n<table border=\"1\" class=\"dataframe\">\n  <thead>\n    <tr style=\"text-align: right;\">\n      <th></th>\n      <th>id</th>\n      <th>title</th>\n      <th>type</th>\n      <th>description</th>\n      <th>release_year</th>\n      <th>age_certification</th>\n      <th>runtime</th>\n      <th>genres</th>\n      <th>production_countries</th>\n      <th>seasons</th>\n      <th>imdb_id</th>\n      <th>imdb_score</th>\n      <th>imdb_votes</th>\n      <th>tmdb_popularity</th>\n      <th>tmdb_score</th>\n    </tr>\n  </thead>\n  <tbody>\n    <tr>\n      <th>0</th>\n      <td>ts300399</td>\n      <td>Five Came Back: The Reference Films</td>\n      <td>SHOW</td>\n      <td>This collection includes 12 World War II-era p...</td>\n      <td>1945</td>\n      <td>TV-MA</td>\n      <td>48</td>\n      <td>['documentation']</td>\n      <td>['US']</td>\n      <td>1.0</td>\n      <td>NaN</td>\n      <td>NaN</td>\n      <td>NaN</td>\n      <td>0.600</td>\n      <td>NaN</td>\n    </tr>\n    <tr>\n      <th>1</th>\n      <td>tm84618</td>\n      <td>Taxi Driver</td>\n      <td>MOVIE</td>\n      <td>A mentally unstable Vietnam War veteran works ...</td>\n      <td>1976</td>\n      <td>R</td>\n      <td>113</td>\n      <td>['crime', 'drama']</td>\n      <td>['US']</td>\n      <td>NaN</td>\n      <td>tt0075314</td>\n      <td>8.3</td>\n      <td>795222.0</td>\n      <td>27.612</td>\n      <td>8.2</td>\n    </tr>\n    <tr>\n      <th>2</th>\n      <td>tm127384</td>\n      <td>Monty Python and the Holy Grail</td>\n      <td>MOVIE</td>\n      <td>King Arthur, accompanied by his squire, recrui...</td>\n      <td>1975</td>\n      <td>PG</td>\n      <td>91</td>\n      <td>['comedy', 'fantasy']</td>\n      <td>['GB']</td>\n      <td>NaN</td>\n      <td>tt0071853</td>\n      <td>8.2</td>\n      <td>530877.0</td>\n      <td>18.216</td>\n      <td>7.8</td>\n    </tr>\n    <tr>\n      <th>3</th>\n      <td>tm70993</td>\n      <td>Life of Brian</td>\n      <td>MOVIE</td>\n      <td>Brian Cohen is an average young Jewish man, bu...</td>\n      <td>1979</td>\n      <td>R</td>\n      <td>94</td>\n      <td>['comedy']</td>\n      <td>['GB']</td>\n      <td>NaN</td>\n      <td>tt0079470</td>\n      <td>8.0</td>\n      <td>392419.0</td>\n      <td>17.505</td>\n      <td>7.8</td>\n    </tr>\n    <tr>\n      <th>4</th>\n      <td>tm190788</td>\n      <td>The Exorcist</td>\n      <td>MOVIE</td>\n      <td>12-year-old Regan MacNeil begins to adapt an e...</td>\n      <td>1973</td>\n      <td>R</td>\n      <td>133</td>\n      <td>['horror']</td>\n      <td>['US']</td>\n      <td>NaN</td>\n      <td>tt0070047</td>\n      <td>8.1</td>\n      <td>391942.0</td>\n      <td>95.337</td>\n      <td>7.7</td>\n    </tr>\n  </tbody>\n</table>\n</div>"
     },
     "execution_count": 1,
     "metadata": {},
     "output_type": "execute_result"
    }
   ],
   "source": [
    "import pandas as pd\n",
    "import matplotlib.pyplot as plt\n",
    "import seaborn as sns\n",
    "from matplotlib.axes import Axes\n",
    "\n",
    "df = pd.read_csv('../input/netflix-tv-shows-and-movies/titles.csv')\n",
    "df.head()"
   ]
  },
  {
   "cell_type": "code",
   "execution_count": 2,
   "outputs": [
    {
     "data": {
      "text/plain": "       release_year      runtime      seasons   imdb_score    imdb_votes  \\\ncount   5806.000000  5806.000000  2047.000000  5283.000000  5.267000e+03   \nmean    2016.013434    77.643989     2.165608     6.533447  2.340719e+04   \nstd        7.324883    39.474160     2.636207     1.160932  8.713432e+04   \nmin     1945.000000     0.000000     1.000000     1.500000  5.000000e+00   \n25%     2015.000000    44.000000     1.000000     5.800000  5.210000e+02   \n50%     2018.000000    84.000000     1.000000     6.600000  2.279000e+03   \n75%     2020.000000   105.000000     2.000000     7.400000  1.014400e+04   \nmax     2022.000000   251.000000    42.000000     9.600000  2.268288e+06   \n\n       tmdb_popularity   tmdb_score  \ncount      5712.000000  5488.000000  \nmean         22.525660     6.818039  \nstd          68.849177     1.171560  \nmin           0.009442     0.500000  \n25%           3.155250     6.100000  \n50%           7.478000     6.900000  \n75%          17.775750     7.500000  \nmax        1823.374000    10.000000  ",
      "text/html": "<div>\n<style scoped>\n    .dataframe tbody tr th:only-of-type {\n        vertical-align: middle;\n    }\n\n    .dataframe tbody tr th {\n        vertical-align: top;\n    }\n\n    .dataframe thead th {\n        text-align: right;\n    }\n</style>\n<table border=\"1\" class=\"dataframe\">\n  <thead>\n    <tr style=\"text-align: right;\">\n      <th></th>\n      <th>release_year</th>\n      <th>runtime</th>\n      <th>seasons</th>\n      <th>imdb_score</th>\n      <th>imdb_votes</th>\n      <th>tmdb_popularity</th>\n      <th>tmdb_score</th>\n    </tr>\n  </thead>\n  <tbody>\n    <tr>\n      <th>count</th>\n      <td>5806.000000</td>\n      <td>5806.000000</td>\n      <td>2047.000000</td>\n      <td>5283.000000</td>\n      <td>5.267000e+03</td>\n      <td>5712.000000</td>\n      <td>5488.000000</td>\n    </tr>\n    <tr>\n      <th>mean</th>\n      <td>2016.013434</td>\n      <td>77.643989</td>\n      <td>2.165608</td>\n      <td>6.533447</td>\n      <td>2.340719e+04</td>\n      <td>22.525660</td>\n      <td>6.818039</td>\n    </tr>\n    <tr>\n      <th>std</th>\n      <td>7.324883</td>\n      <td>39.474160</td>\n      <td>2.636207</td>\n      <td>1.160932</td>\n      <td>8.713432e+04</td>\n      <td>68.849177</td>\n      <td>1.171560</td>\n    </tr>\n    <tr>\n      <th>min</th>\n      <td>1945.000000</td>\n      <td>0.000000</td>\n      <td>1.000000</td>\n      <td>1.500000</td>\n      <td>5.000000e+00</td>\n      <td>0.009442</td>\n      <td>0.500000</td>\n    </tr>\n    <tr>\n      <th>25%</th>\n      <td>2015.000000</td>\n      <td>44.000000</td>\n      <td>1.000000</td>\n      <td>5.800000</td>\n      <td>5.210000e+02</td>\n      <td>3.155250</td>\n      <td>6.100000</td>\n    </tr>\n    <tr>\n      <th>50%</th>\n      <td>2018.000000</td>\n      <td>84.000000</td>\n      <td>1.000000</td>\n      <td>6.600000</td>\n      <td>2.279000e+03</td>\n      <td>7.478000</td>\n      <td>6.900000</td>\n    </tr>\n    <tr>\n      <th>75%</th>\n      <td>2020.000000</td>\n      <td>105.000000</td>\n      <td>2.000000</td>\n      <td>7.400000</td>\n      <td>1.014400e+04</td>\n      <td>17.775750</td>\n      <td>7.500000</td>\n    </tr>\n    <tr>\n      <th>max</th>\n      <td>2022.000000</td>\n      <td>251.000000</td>\n      <td>42.000000</td>\n      <td>9.600000</td>\n      <td>2.268288e+06</td>\n      <td>1823.374000</td>\n      <td>10.000000</td>\n    </tr>\n  </tbody>\n</table>\n</div>"
     },
     "execution_count": 2,
     "metadata": {},
     "output_type": "execute_result"
    }
   ],
   "source": [
    "df.describe()"
   ],
   "metadata": {
    "collapsed": false,
    "pycharm": {
     "name": "#%%\n"
    }
   }
  },
  {
   "cell_type": "markdown",
   "source": [
    "## Getting a feel\n",
    "Let's make some basic plots to get a feel for our data."
   ],
   "metadata": {
    "collapsed": false,
    "pycharm": {
     "name": "#%% md\n"
    }
   }
  },
  {
   "cell_type": "code",
   "execution_count": 3,
   "outputs": [
    {
     "data": {
      "text/plain": "<Figure size 432x288 with 1 Axes>",
      "image/png": "[encoded data removed]"
     },
     "metadata": {},
     "output_type": "display_data"
    }
   ],
   "source": [
    "sns.countplot(data=df, x='type')\n",
    "plt.show()"
   ],
   "metadata": {
    "collapsed": false,
    "pycharm": {
     "name": "#%%\n"
    }
   }
  },
  {
   "cell_type": "markdown",
   "source": [
    "We're dealing mostly with movies in our dataset."
   ],
   "metadata": {
    "collapsed": false,
    "pycharm": {
     "name": "#%% md\n"
    }
   }
  },
  {
   "cell_type": "code",
   "execution_count": 4,
   "outputs": [
    {
     "data": {
      "text/plain": "2019    848\n2020    805\n2018    774\n2021    758\n2017    580\n       ... \n1961      1\n1953      1\n1945      1\n1968      1\n1956      1\nName: release_year, Length: 67, dtype: int64"
     },
     "execution_count": 4,
     "metadata": {},
     "output_type": "execute_result"
    }
   ],
   "source": [
    "df['release_year'].value_counts()"
   ],
   "metadata": {
    "collapsed": false,
    "pycharm": {
     "name": "#%%\n"
    }
   }
  },
  {
   "cell_type": "code",
   "execution_count": 5,
   "outputs": [
    {
     "data": {
      "text/plain": "<Figure size 432x288 with 1 Axes>",
      "image/png": "[encoded data removed]"
     },
     "metadata": {},
     "output_type": "display_data"
    }
   ],
   "source": [
    "release_year_counts = df['release_year'].value_counts()\n",
    "sns.lineplot(data=release_year_counts)\n",
    "plt.xlabel('Year')\n",
    "plt.ylabel('Count')\n",
    "plt.show()"
   ],
   "metadata": {
    "collapsed": false,
    "pycharm": {
     "name": "#%%\n"
    }
   }
  },
  {
   "cell_type": "markdown",
   "source": [
    "Our dataset seems to mainly contain TV shows and movies from more recent years.\n",
    "## Analysis\n",
    "An interesting thing to find out would be which genres tend to be the highest rated."
   ],
   "metadata": {
    "collapsed": false,
    "pycharm": {
     "name": "#%% md\n"
    }
   }
  },
  {
   "cell_type": "code",
   "execution_count": 6,
   "outputs": [
    {
     "data": {
      "text/plain": "['comedy']                                                                             510\n['drama']                                                                              350\n['documentation']                                                                      320\n['comedy', 'drama']                                                                    141\n['drama', 'comedy']                                                                    128\n                                                                                      ... \n['drama', 'comedy', 'romance', 'documentation', 'european']                              1\n['action', 'comedy', 'drama', 'sport']                                                   1\n['drama', 'crime', 'thriller', 'family']                                                 1\n['war', 'action', 'drama', 'scifi', 'thriller']                                          1\n['scifi', 'action', 'drama', 'thriller', 'horror', 'animation', 'fantasy', 'crime']      1\nName: genres, Length: 1626, dtype: int64"
     },
     "execution_count": 6,
     "metadata": {},
     "output_type": "execute_result"
    }
   ],
   "source": [
    "df['genres'].value_counts()"
   ],
   "metadata": {
    "collapsed": false,
    "pycharm": {
     "name": "#%%\n"
    }
   }
  },
  {
   "cell_type": "markdown",
   "source": [
    "It seems our dataset mostly contains movies or TV shows that are comedies, dramas, or documentations, so let's see how those compare in IMDB ratings."
   ],
   "metadata": {
    "collapsed": false,
    "pycharm": {
     "name": "#%% md\n"
    }
   }
  },
  {
   "cell_type": "code",
   "execution_count": 7,
   "outputs": [
    {
     "data": {
      "text/plain": "<Figure size 432x288 with 1 Axes>",
      "image/png": "[encoded data removed]"
     },
     "metadata": {},
     "output_type": "display_data"
    }
   ],
   "source": [
    "comedy = df[df['genres'] == \"['comedy']\"]\n",
    "drama = df[df['genres'] == \"['drama']\"]\n",
    "documentation = df[df['genres'] == \"['documentation']\"]\n",
    "mean_values = [comedy['imdb_score'].mean(), drama['imdb_score'].mean(), documentation['imdb_score'].mean()]\n",
    "genres = [0, 1, 2]\n",
    "imdb_scores_plot: Axes = sns.barplot(x=genres, y=mean_values)\n",
    "imdb_scores_plot.set_xlabel('Genres')\n",
    "imdb_scores_plot.set_xticklabels(['Comedy', 'Drama', 'Documentation'])\n",
    "imdb_scores_plot.set_ylabel('Average IMDB Score')\n",
    "plt.show()"
   ],
   "metadata": {
    "collapsed": false,
    "pycharm": {
     "name": "#%%\n"
    }
   }
  },
  {
   "cell_type": "markdown",
   "source": [
    "Of these three genres, it's clear that documentation is the highest rated on average, but since our dataset has less documentations than the other two genres, it's not exactly a fair comparison."
   ],
   "metadata": {
    "collapsed": false,
    "pycharm": {
     "name": "#%% md\n"
    }
   }
  },
  {
   "cell_type": "code",
   "execution_count": 8,
   "outputs": [
    {
     "name": "stdout",
     "output_type": "stream",
     "text": [
      "(438, 15)\n",
      "(273, 15)\n",
      "(249, 15)\n"
     ]
    }
   ],
   "source": [
    "# removing rows which have an empty imdb score\n",
    "comedy = comedy.dropna(axis=0, subset=['imdb_score'])\n",
    "drama = drama.dropna(axis=0, subset=['imdb_score'])\n",
    "documentation = documentation.dropna(axis=0, subset=['imdb_score'])\n",
    "print(comedy.shape)\n",
    "print(drama.shape)\n",
    "print(documentation.shape)"
   ],
   "metadata": {
    "collapsed": false,
    "pycharm": {
     "name": "#%%\n"
    }
   }
  },
  {
   "cell_type": "markdown",
   "source": [
    "After removing all the rows which have no IMDB score, we'll pick the one that has the least number of rows and use that number for our random sample size."
   ],
   "metadata": {
    "collapsed": false,
    "pycharm": {
     "name": "#%% md\n"
    }
   }
  },
  {
   "cell_type": "code",
   "execution_count": 9,
   "outputs": [],
   "source": [
    "# picking 249 points randomly\n",
    "random_comedy = comedy.sample(n=249, random_state=42)\n",
    "random_drama = drama.sample(n=249, random_state=42)\n",
    "random_documentation = documentation.sample(n=249, random_state=42)"
   ],
   "metadata": {
    "collapsed": false,
    "pycharm": {
     "name": "#%%\n"
    }
   }
  },
  {
   "cell_type": "markdown",
   "source": [
    "After picking 249 observations from each of the 3 genres, let's run the plot again."
   ],
   "metadata": {
    "collapsed": false,
    "pycharm": {
     "name": "#%% md\n"
    }
   }
  },
  {
   "cell_type": "code",
   "execution_count": 10,
   "outputs": [
    {
     "data": {
      "text/plain": "<Figure size 432x288 with 1 Axes>",
      "image/png": "[encoded data removed]"
     },
     "metadata": {},
     "output_type": "display_data"
    }
   ],
   "source": [
    "mean_values = [random_comedy['imdb_score'].mean(), random_drama['imdb_score'].mean(), random_documentation['imdb_score'].mean()]\n",
    "random_imdb_score_plot: Axes = sns.barplot(x=genres, y=mean_values)\n",
    "random_imdb_score_plot.set_xlabel('Genres')\n",
    "random_imdb_score_plot.set_xticklabels(['Comedy', 'Drama', 'Documentation'])\n",
    "random_imdb_score_plot.set_ylabel('Average IMDB Score')\n",
    "random_imdb_score_plot.set_title('Average IMDB Score by Genre')\n",
    "plt.show()"
   ],
   "metadata": {
    "collapsed": false,
    "pycharm": {
     "name": "#%%\n"
    }
   }
  },
  {
   "cell_type": "markdown",
   "source": [
    "Even when we have the same number of observations chosen randomly, the plot still looks the same."
   ],
   "metadata": {
    "collapsed": false,
    "pycharm": {
     "name": "#%% md\n"
    }
   }
  }
 ],
 "metadata": {
  "kernelspec": {
   "display_name": "Python 3",
   "language": "python",
   "name": "python3"
  },
  "language_info": {
   "codemirror_mode": {
    "name": "ipython",
    "version": 2
   },
   "file_extension": ".py",
   "mimetype": "text/x-python",
   "name": "python",
   "nbconvert_exporter": "python",
   "pygments_lexer": "ipython2",
   "version": "2.7.6"
  }
 },
 "nbformat": 4,
 "nbformat_minor": 0
}